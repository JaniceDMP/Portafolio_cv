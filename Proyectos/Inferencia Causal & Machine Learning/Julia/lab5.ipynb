{
  "nbformat": 4,
  "nbformat_minor": 0,
  "metadata": {
    "colab": {
      "provenance": []
    },
    "kernelspec": {
      "display_name": "Julia",
      "language": "julia",
      "name": "julia"
    },
    "language_info": {
      "file_extension": ".jl",
      "mimetype": "application/julia",
      "name": "julia"
    },
    "gpuClass": "standard"
  },
  "cells": [
    {
      "cell_type": "markdown",
      "source": [
        "# Workgroup5\n",
        "\n",
        "- Janice Mamani"
      ],
      "metadata": {
        "id": "cNx_pi5_aEWQ"
      }
    },
    {
      "cell_type": "code",
      "source": [
        "using Pkg\n",
        "Pkg.add([\"CSV\", \"DataFrames\", \"Plots\", \"StatsPlots\", \"GLM\", \"Distributions\", \"Random\", \"ScikitLearn\", \"Econometrics\", \"StatsBase\", \"StatsModels\"])\n",
        "\n",
        "\n",
        "# Load the necessary packages\n",
        "using CSV\n",
        "using DataFrames\n",
        "using Plots\n",
        "using StatsPlots\n",
        "using GLM\n",
        "using Distributions\n",
        "using Random\n",
        "using ScikitLearn\n",
        "using ScikitLearn.CrossValidation: train_test_split\n",
        "using ScikitLearn.LinearModel: LassoCV\n",
        "using StatsBase\n",
        "using StatsModels\n",
        "using Statistics\n",
        "using GLM\n"
      ],
      "metadata": {
        "colab": {
          "base_uri": "https://localhost:8080/",
          "height": 106
        },
        "id": "pdIjoCDWbjZc",
        "outputId": "4941559a-f4c3-4cac-e25e-379781378bf2"
      },
      "execution_count": 11,
      "outputs": [
        {
          "output_type": "stream",
          "name": "stderr",
          "text": [
            "\u001b[32m\u001b[1m   Resolving\u001b[22m\u001b[39m package versions...\n",
            "\u001b[32m\u001b[1m  No Changes\u001b[22m\u001b[39m to `~/.julia/environments/v1.8/Project.toml`\n",
            "\u001b[32m\u001b[1m  No Changes\u001b[22m\u001b[39m to `~/.julia/environments/v1.8/Manifest.toml`\n"
          ]
        },
        {
          "output_type": "error",
          "ename": "LoadError",
          "evalue": "UndefVarError: LinearModel not defined",
          "traceback": [
            "UndefVarError: LinearModel not defined",
            ""
          ]
        }
      ]
    },
    {
      "cell_type": "code",
      "source": [
        "# Load the data\n",
        "df = CSV.read(\"processed_esti.csv\", DataFrame)"
      ],
      "metadata": {
        "colab": {
          "base_uri": "https://localhost:8080/",
          "height": 645
        },
        "id": "5FuRReFVaC3L",
        "outputId": "a833e68c-985f-48cb-88a8-394fb13ead2b"
      },
      "execution_count": 15,
      "outputs": [
        {
          "output_type": "execute_result",
          "data": {
            "text/plain": [
              "\u001b[1m1739×15 DataFrame\u001b[0m\n",
              "\u001b[1m  Row \u001b[0m│\u001b[1m y     \u001b[0m\u001b[1m w     \u001b[0m\u001b[1m gender_female \u001b[0m\u001b[1m gender_male \u001b[0m\u001b[1m gender_transgender \u001b[0m\u001b[1m ethnicgrp_asian \u001b[0m\u001b[1m ethnicgrp_b\u001b[0m ⋯\n",
              "      │\u001b[90m Int64 \u001b[0m\u001b[90m Int64 \u001b[0m\u001b[90m Int64         \u001b[0m\u001b[90m Int64       \u001b[0m\u001b[90m Int64              \u001b[0m\u001b[90m Int64           \u001b[0m\u001b[90m Int64      \u001b[0m ⋯\n",
              "──────┼─────────────────────────────────────────────────────────────────────────────────────────────\n",
              "    1 │     1      1              0            1                   0                0              ⋯\n",
              "    2 │     0      0              0            1                   0                0\n",
              "    3 │     0      1              0            1                   0                0\n",
              "    4 │     0      0              1            0                   0                0\n",
              "    5 │     1      1              1            0                   0                1              ⋯\n",
              "    6 │     1      1              0            1                   0                0\n",
              "    7 │     1      1              1            0                   0                0\n",
              "    8 │     0      0              0            1                   0                0\n",
              "    9 │     0      1              0            1                   0                0              ⋯\n",
              "   10 │     1      1              1            0                   0                0\n",
              "   11 │     0      0              0            1                   0                0\n",
              "  ⋮   │   ⋮      ⋮          ⋮             ⋮               ⋮                  ⋮                ⋮    ⋱\n",
              " 1730 │     0      0              1            0                   0                0\n",
              " 1731 │     0      0              1            0                   0                0              ⋯\n",
              " 1732 │     1      0              1            0                   0                0\n",
              " 1733 │     1      1              1            0                   0                0\n",
              " 1734 │     1      0              0            1                   0                0\n",
              " 1735 │     0      0              0            1                   0                0              ⋯\n",
              " 1736 │     1      1              1            0                   0                0\n",
              " 1737 │     1      1              1            0                   0                0\n",
              " 1738 │     0      1              1            0                   0                0\n",
              " 1739 │     0      1              1            0                   0                0              ⋯\n",
              "\u001b[36m                                                                     9 columns and 1718 rows omitted\u001b[0m"
            ],
            "text/html": [
              "<div><div style = \"float: left;\"><span>1739×15 DataFrame</span></div><div style = \"float: right;\"><span style = \"font-style: italic;\">1714 rows omitted</span></div><div style = \"clear: both;\"></div></div><div class = \"data-frame\" style = \"overflow-x: scroll;\"><table class = \"data-frame\" style = \"margin-bottom: 6px;\"><thead><tr class = \"header\"><th class = \"rowNumber\" style = \"font-weight: bold; text-align: right;\">Row</th><th style = \"text-align: left;\">y</th><th style = \"text-align: left;\">w</th><th style = \"text-align: left;\">gender_female</th><th style = \"text-align: left;\">gender_male</th><th style = \"text-align: left;\">gender_transgender</th><th style = \"text-align: left;\">ethnicgrp_asian</th><th style = \"text-align: left;\">ethnicgrp_black</th><th style = \"text-align: left;\">ethnicgrp_mixed_multiple</th><th style = \"text-align: left;\">ethnicgrp_other</th><th style = \"text-align: left;\">ethnicgrp_white</th><th style = \"text-align: left;\">partners1</th><th style = \"text-align: left;\">postlaunch</th><th style = \"text-align: left;\">msm</th><th style = \"text-align: left;\">age</th><th style = \"text-align: left;\">imd_decile</th></tr><tr class = \"subheader headerLastRow\"><th class = \"rowNumber\" style = \"font-weight: bold; text-align: right;\"></th><th title = \"Int64\" style = \"text-align: left;\">Int64</th><th title = \"Int64\" style = \"text-align: left;\">Int64</th><th title = \"Int64\" style = \"text-align: left;\">Int64</th><th title = \"Int64\" style = \"text-align: left;\">Int64</th><th title = \"Int64\" style = \"text-align: left;\">Int64</th><th title = \"Int64\" style = \"text-align: left;\">Int64</th><th title = \"Int64\" style = \"text-align: left;\">Int64</th><th title = \"Int64\" style = \"text-align: left;\">Int64</th><th title = \"Int64\" style = \"text-align: left;\">Int64</th><th title = \"Int64\" style = \"text-align: left;\">Int64</th><th title = \"Int64\" style = \"text-align: left;\">Int64</th><th title = \"Int64\" style = \"text-align: left;\">Int64</th><th title = \"Int64\" style = \"text-align: left;\">Int64</th><th title = \"Int64\" style = \"text-align: left;\">Int64</th><th title = \"Int64\" style = \"text-align: left;\">Int64</th></tr></thead><tbody><tr><td class = \"rowNumber\" style = \"font-weight: bold; text-align: right;\">1</td><td style = \"text-align: right;\">1</td><td style = \"text-align: right;\">1</td><td style = \"text-align: right;\">0</td><td style = \"text-align: right;\">1</td><td style = \"text-align: right;\">0</td><td style = \"text-align: right;\">0</td><td style = \"text-align: right;\">0</td><td style = \"text-align: right;\">1</td><td style = \"text-align: right;\">0</td><td style = \"text-align: right;\">0</td><td style = \"text-align: right;\">0</td><td style = \"text-align: right;\">1</td><td style = \"text-align: right;\">0</td><td style = \"text-align: right;\">27</td><td style = \"text-align: right;\">5</td></tr><tr><td class = \"rowNumber\" style = \"font-weight: bold; text-align: right;\">2</td><td style = \"text-align: right;\">0</td><td style = \"text-align: right;\">0</td><td style = \"text-align: right;\">0</td><td style = \"text-align: right;\">1</td><td style = \"text-align: right;\">0</td><td style = \"text-align: right;\">0</td><td style = \"text-align: right;\">0</td><td style = \"text-align: right;\">0</td><td style = \"text-align: right;\">0</td><td style = \"text-align: right;\">1</td><td style = \"text-align: right;\">0</td><td style = \"text-align: right;\">0</td><td style = \"text-align: right;\">0</td><td style = \"text-align: right;\">19</td><td style = \"text-align: right;\">6</td></tr><tr><td class = \"rowNumber\" style = \"font-weight: bold; text-align: right;\">3</td><td style = \"text-align: right;\">0</td><td style = \"text-align: right;\">1</td><td style = \"text-align: right;\">0</td><td style = \"text-align: right;\">1</td><td style = \"text-align: right;\">0</td><td style = \"text-align: right;\">0</td><td style = \"text-align: right;\">1</td><td style = \"text-align: right;\">0</td><td style = \"text-align: right;\">0</td><td style = \"text-align: right;\">0</td><td style = \"text-align: right;\">0</td><td style = \"text-align: right;\">1</td><td style = \"text-align: right;\">0</td><td style = \"text-align: right;\">26</td><td style = \"text-align: right;\">4</td></tr><tr><td class = \"rowNumber\" style = \"font-weight: bold; text-align: right;\">4</td><td style = \"text-align: right;\">0</td><td style = \"text-align: right;\">0</td><td style = \"text-align: right;\">1</td><td style = \"text-align: right;\">0</td><td style = \"text-align: right;\">0</td><td style = \"text-align: right;\">0</td><td style = \"text-align: right;\">0</td><td style = \"text-align: right;\">0</td><td style = \"text-align: right;\">0</td><td style = \"text-align: right;\">1</td><td style = \"text-align: right;\">1</td><td style = \"text-align: right;\">0</td><td style = \"text-align: right;\">0</td><td style = \"text-align: right;\">20</td><td style = \"text-align: right;\">2</td></tr><tr><td class = \"rowNumber\" style = \"font-weight: bold; text-align: right;\">5</td><td style = \"text-align: right;\">1</td><td style = \"text-align: right;\">1</td><td style = \"text-align: right;\">1</td><td style = \"text-align: right;\">0</td><td style = \"text-align: right;\">0</td><td style = \"text-align: right;\">1</td><td style = \"text-align: right;\">0</td><td style = \"text-align: right;\">0</td><td style = \"text-align: right;\">0</td><td style = \"text-align: right;\">0</td><td style = \"text-align: right;\">0</td><td style = \"text-align: right;\">1</td><td style = \"text-align: right;\">0</td><td style = \"text-align: right;\">24</td><td style = \"text-align: right;\">3</td></tr><tr><td class = \"rowNumber\" style = \"font-weight: bold; text-align: right;\">6</td><td style = \"text-align: right;\">1</td><td style = \"text-align: right;\">1</td><td style = \"text-align: right;\">0</td><td style = \"text-align: right;\">1</td><td style = \"text-align: right;\">0</td><td style = \"text-align: right;\">0</td><td style = \"text-align: right;\">0</td><td style = \"text-align: right;\">0</td><td style = \"text-align: right;\">0</td><td style = \"text-align: right;\">1</td><td style = \"text-align: right;\">0</td><td style = \"text-align: right;\">1</td><td style = \"text-align: right;\">0</td><td style = \"text-align: right;\">24</td><td style = \"text-align: right;\">2</td></tr><tr><td class = \"rowNumber\" style = \"font-weight: bold; text-align: right;\">7</td><td style = \"text-align: right;\">1</td><td style = \"text-align: right;\">1</td><td style = \"text-align: right;\">1</td><td style = \"text-align: right;\">0</td><td style = \"text-align: right;\">0</td><td style = \"text-align: right;\">0</td><td style = \"text-align: right;\">0</td><td style = \"text-align: right;\">0</td><td style = \"text-align: right;\">0</td><td style = \"text-align: right;\">1</td><td style = \"text-align: right;\">0</td><td style = \"text-align: right;\">0</td><td style = \"text-align: right;\">0</td><td style = \"text-align: right;\">24</td><td style = \"text-align: right;\">4</td></tr><tr><td class = \"rowNumber\" style = \"font-weight: bold; text-align: right;\">8</td><td style = \"text-align: right;\">0</td><td style = \"text-align: right;\">0</td><td style = \"text-align: right;\">0</td><td style = \"text-align: right;\">1</td><td style = \"text-align: right;\">0</td><td style = \"text-align: right;\">0</td><td style = \"text-align: right;\">1</td><td style = \"text-align: right;\">0</td><td style = \"text-align: right;\">0</td><td style = \"text-align: right;\">0</td><td style = \"text-align: right;\">0</td><td style = \"text-align: right;\">1</td><td style = \"text-align: right;\">0</td><td style = \"text-align: right;\">21</td><td style = \"text-align: right;\">2</td></tr><tr><td class = \"rowNumber\" style = \"font-weight: bold; text-align: right;\">9</td><td style = \"text-align: right;\">0</td><td style = \"text-align: right;\">1</td><td style = \"text-align: right;\">0</td><td style = \"text-align: right;\">1</td><td style = \"text-align: right;\">0</td><td style = \"text-align: right;\">0</td><td style = \"text-align: right;\">0</td><td style = \"text-align: right;\">0</td><td style = \"text-align: right;\">0</td><td style = \"text-align: right;\">1</td><td style = \"text-align: right;\">1</td><td style = \"text-align: right;\">0</td><td style = \"text-align: right;\">0</td><td style = \"text-align: right;\">27</td><td style = \"text-align: right;\">2</td></tr><tr><td class = \"rowNumber\" style = \"font-weight: bold; text-align: right;\">10</td><td style = \"text-align: right;\">1</td><td style = \"text-align: right;\">1</td><td style = \"text-align: right;\">1</td><td style = \"text-align: right;\">0</td><td style = \"text-align: right;\">0</td><td style = \"text-align: right;\">0</td><td style = \"text-align: right;\">1</td><td style = \"text-align: right;\">0</td><td style = \"text-align: right;\">0</td><td style = \"text-align: right;\">0</td><td style = \"text-align: right;\">0</td><td style = \"text-align: right;\">0</td><td style = \"text-align: right;\">0</td><td style = \"text-align: right;\">21</td><td style = \"text-align: right;\">6</td></tr><tr><td class = \"rowNumber\" style = \"font-weight: bold; text-align: right;\">11</td><td style = \"text-align: right;\">0</td><td style = \"text-align: right;\">0</td><td style = \"text-align: right;\">0</td><td style = \"text-align: right;\">1</td><td style = \"text-align: right;\">0</td><td style = \"text-align: right;\">0</td><td style = \"text-align: right;\">0</td><td style = \"text-align: right;\">0</td><td style = \"text-align: right;\">0</td><td style = \"text-align: right;\">1</td><td style = \"text-align: right;\">0</td><td style = \"text-align: right;\">1</td><td style = \"text-align: right;\">1</td><td style = \"text-align: right;\">28</td><td style = \"text-align: right;\">3</td></tr><tr><td class = \"rowNumber\" style = \"font-weight: bold; text-align: right;\">12</td><td style = \"text-align: right;\">1</td><td style = \"text-align: right;\">0</td><td style = \"text-align: right;\">1</td><td style = \"text-align: right;\">0</td><td style = \"text-align: right;\">0</td><td style = \"text-align: right;\">0</td><td style = \"text-align: right;\">0</td><td style = \"text-align: right;\">0</td><td style = \"text-align: right;\">0</td><td style = \"text-align: right;\">1</td><td style = \"text-align: right;\">0</td><td style = \"text-align: right;\">1</td><td style = \"text-align: right;\">0</td><td style = \"text-align: right;\">24</td><td style = \"text-align: right;\">2</td></tr><tr><td class = \"rowNumber\" style = \"font-weight: bold; text-align: right;\">13</td><td style = \"text-align: right;\">0</td><td style = \"text-align: right;\">1</td><td style = \"text-align: right;\">0</td><td style = \"text-align: right;\">1</td><td style = \"text-align: right;\">0</td><td style = \"text-align: right;\">0</td><td style = \"text-align: right;\">0</td><td style = \"text-align: right;\">0</td><td style = \"text-align: right;\">0</td><td style = \"text-align: right;\">1</td><td style = \"text-align: right;\">0</td><td style = \"text-align: right;\">0</td><td style = \"text-align: right;\">1</td><td style = \"text-align: right;\">18</td><td style = \"text-align: right;\">4</td></tr><tr><td style = \"text-align: right;\">&vellip;</td><td style = \"text-align: right;\">&vellip;</td><td style = \"text-align: right;\">&vellip;</td><td style = \"text-align: right;\">&vellip;</td><td style = \"text-align: right;\">&vellip;</td><td style = \"text-align: right;\">&vellip;</td><td style = \"text-align: right;\">&vellip;</td><td style = \"text-align: right;\">&vellip;</td><td style = \"text-align: right;\">&vellip;</td><td style = \"text-align: right;\">&vellip;</td><td style = \"text-align: right;\">&vellip;</td><td style = \"text-align: right;\">&vellip;</td><td style = \"text-align: right;\">&vellip;</td><td style = \"text-align: right;\">&vellip;</td><td style = \"text-align: right;\">&vellip;</td><td style = \"text-align: right;\">&vellip;</td></tr><tr><td class = \"rowNumber\" style = \"font-weight: bold; text-align: right;\">1728</td><td style = \"text-align: right;\">0</td><td style = \"text-align: right;\">0</td><td style = \"text-align: right;\">1</td><td style = \"text-align: right;\">0</td><td style = \"text-align: right;\">0</td><td style = \"text-align: right;\">0</td><td style = \"text-align: right;\">0</td><td style = \"text-align: right;\">0</td><td style = \"text-align: right;\">0</td><td style = \"text-align: right;\">1</td><td style = \"text-align: right;\">0</td><td style = \"text-align: right;\">1</td><td style = \"text-align: right;\">0</td><td style = \"text-align: right;\">29</td><td style = \"text-align: right;\">8</td></tr><tr><td class = \"rowNumber\" style = \"font-weight: bold; text-align: right;\">1729</td><td style = \"text-align: right;\">0</td><td style = \"text-align: right;\">0</td><td style = \"text-align: right;\">0</td><td style = \"text-align: right;\">1</td><td style = \"text-align: right;\">0</td><td style = \"text-align: right;\">0</td><td style = \"text-align: right;\">0</td><td style = \"text-align: right;\">0</td><td style = \"text-align: right;\">0</td><td style = \"text-align: right;\">1</td><td style = \"text-align: right;\">0</td><td style = \"text-align: right;\">1</td><td style = \"text-align: right;\">1</td><td style = \"text-align: right;\">25</td><td style = \"text-align: right;\">2</td></tr><tr><td class = \"rowNumber\" style = \"font-weight: bold; text-align: right;\">1730</td><td style = \"text-align: right;\">0</td><td style = \"text-align: right;\">0</td><td style = \"text-align: right;\">1</td><td style = \"text-align: right;\">0</td><td style = \"text-align: right;\">0</td><td style = \"text-align: right;\">0</td><td style = \"text-align: right;\">0</td><td style = \"text-align: right;\">0</td><td style = \"text-align: right;\">0</td><td style = \"text-align: right;\">1</td><td style = \"text-align: right;\">0</td><td style = \"text-align: right;\">0</td><td style = \"text-align: right;\">0</td><td style = \"text-align: right;\">27</td><td style = \"text-align: right;\">1</td></tr><tr><td class = \"rowNumber\" style = \"font-weight: bold; text-align: right;\">1731</td><td style = \"text-align: right;\">0</td><td style = \"text-align: right;\">0</td><td style = \"text-align: right;\">1</td><td style = \"text-align: right;\">0</td><td style = \"text-align: right;\">0</td><td style = \"text-align: right;\">0</td><td style = \"text-align: right;\">0</td><td style = \"text-align: right;\">1</td><td style = \"text-align: right;\">0</td><td style = \"text-align: right;\">0</td><td style = \"text-align: right;\">0</td><td style = \"text-align: right;\">0</td><td style = \"text-align: right;\">0</td><td style = \"text-align: right;\">19</td><td style = \"text-align: right;\">6</td></tr><tr><td class = \"rowNumber\" style = \"font-weight: bold; text-align: right;\">1732</td><td style = \"text-align: right;\">1</td><td style = \"text-align: right;\">0</td><td style = \"text-align: right;\">1</td><td style = \"text-align: right;\">0</td><td style = \"text-align: right;\">0</td><td style = \"text-align: right;\">0</td><td style = \"text-align: right;\">0</td><td style = \"text-align: right;\">0</td><td style = \"text-align: right;\">0</td><td style = \"text-align: right;\">1</td><td style = \"text-align: right;\">0</td><td style = \"text-align: right;\">0</td><td style = \"text-align: right;\">0</td><td style = \"text-align: right;\">20</td><td style = \"text-align: right;\">3</td></tr><tr><td class = \"rowNumber\" style = \"font-weight: bold; text-align: right;\">1733</td><td style = \"text-align: right;\">1</td><td style = \"text-align: right;\">1</td><td style = \"text-align: right;\">1</td><td style = \"text-align: right;\">0</td><td style = \"text-align: right;\">0</td><td style = \"text-align: right;\">0</td><td style = \"text-align: right;\">0</td><td style = \"text-align: right;\">1</td><td style = \"text-align: right;\">0</td><td style = \"text-align: right;\">0</td><td style = \"text-align: right;\">1</td><td style = \"text-align: right;\">1</td><td style = \"text-align: right;\">0</td><td style = \"text-align: right;\">26</td><td style = \"text-align: right;\">3</td></tr><tr><td class = \"rowNumber\" style = \"font-weight: bold; text-align: right;\">1734</td><td style = \"text-align: right;\">1</td><td style = \"text-align: right;\">0</td><td style = \"text-align: right;\">0</td><td style = \"text-align: right;\">1</td><td style = \"text-align: right;\">0</td><td style = \"text-align: right;\">0</td><td style = \"text-align: right;\">1</td><td style = \"text-align: right;\">0</td><td style = \"text-align: right;\">0</td><td style = \"text-align: right;\">0</td><td style = \"text-align: right;\">1</td><td style = \"text-align: right;\">0</td><td style = \"text-align: right;\">0</td><td style = \"text-align: right;\">26</td><td style = \"text-align: right;\">3</td></tr><tr><td class = \"rowNumber\" style = \"font-weight: bold; text-align: right;\">1735</td><td style = \"text-align: right;\">0</td><td style = \"text-align: right;\">0</td><td style = \"text-align: right;\">0</td><td style = \"text-align: right;\">1</td><td style = \"text-align: right;\">0</td><td style = \"text-align: right;\">0</td><td style = \"text-align: right;\">0</td><td style = \"text-align: right;\">0</td><td style = \"text-align: right;\">0</td><td style = \"text-align: right;\">1</td><td style = \"text-align: right;\">0</td><td style = \"text-align: right;\">0</td><td style = \"text-align: right;\">0</td><td style = \"text-align: right;\">24</td><td style = \"text-align: right;\">8</td></tr><tr><td class = \"rowNumber\" style = \"font-weight: bold; text-align: right;\">1736</td><td style = \"text-align: right;\">1</td><td style = \"text-align: right;\">1</td><td style = \"text-align: right;\">1</td><td style = \"text-align: right;\">0</td><td style = \"text-align: right;\">0</td><td style = \"text-align: right;\">0</td><td style = \"text-align: right;\">1</td><td style = \"text-align: right;\">0</td><td style = \"text-align: right;\">0</td><td style = \"text-align: right;\">0</td><td style = \"text-align: right;\">1</td><td style = \"text-align: right;\">1</td><td style = \"text-align: right;\">0</td><td style = \"text-align: right;\">29</td><td style = \"text-align: right;\">1</td></tr><tr><td class = \"rowNumber\" style = \"font-weight: bold; text-align: right;\">1737</td><td style = \"text-align: right;\">1</td><td style = \"text-align: right;\">1</td><td style = \"text-align: right;\">1</td><td style = \"text-align: right;\">0</td><td style = \"text-align: right;\">0</td><td style = \"text-align: right;\">0</td><td style = \"text-align: right;\">0</td><td style = \"text-align: right;\">0</td><td style = \"text-align: right;\">0</td><td style = \"text-align: right;\">1</td><td style = \"text-align: right;\">0</td><td style = \"text-align: right;\">1</td><td style = \"text-align: right;\">0</td><td style = \"text-align: right;\">27</td><td style = \"text-align: right;\">4</td></tr><tr><td class = \"rowNumber\" style = \"font-weight: bold; text-align: right;\">1738</td><td style = \"text-align: right;\">0</td><td style = \"text-align: right;\">1</td><td style = \"text-align: right;\">1</td><td style = \"text-align: right;\">0</td><td style = \"text-align: right;\">0</td><td style = \"text-align: right;\">0</td><td style = \"text-align: right;\">0</td><td style = \"text-align: right;\">0</td><td style = \"text-align: right;\">0</td><td style = \"text-align: right;\">1</td><td style = \"text-align: right;\">1</td><td style = \"text-align: right;\">1</td><td style = \"text-align: right;\">0</td><td style = \"text-align: right;\">25</td><td style = \"text-align: right;\">4</td></tr><tr><td class = \"rowNumber\" style = \"font-weight: bold; text-align: right;\">1739</td><td style = \"text-align: right;\">0</td><td style = \"text-align: right;\">1</td><td style = \"text-align: right;\">1</td><td style = \"text-align: right;\">0</td><td style = \"text-align: right;\">0</td><td style = \"text-align: right;\">0</td><td style = \"text-align: right;\">0</td><td style = \"text-align: right;\">0</td><td style = \"text-align: right;\">0</td><td style = \"text-align: right;\">1</td><td style = \"text-align: right;\">0</td><td style = \"text-align: right;\">1</td><td style = \"text-align: right;\">0</td><td style = \"text-align: right;\">25</td><td style = \"text-align: right;\">4</td></tr></tbody></table></div>"
            ],
            "text/latex": "\\begin{tabular}{r|ccccccccc}\n\t& y & w & gender\\_female & gender\\_male & gender\\_transgender & ethnicgrp\\_asian & ethnicgrp\\_black & ethnicgrp\\_mixed\\_multiple & \\\\\n\t\\hline\n\t& Int64 & Int64 & Int64 & Int64 & Int64 & Int64 & Int64 & Int64 & \\\\\n\t\\hline\n\t1 & 1 & 1 & 0 & 1 & 0 & 0 & 0 & 1 & $\\dots$ \\\\\n\t2 & 0 & 0 & 0 & 1 & 0 & 0 & 0 & 0 & $\\dots$ \\\\\n\t3 & 0 & 1 & 0 & 1 & 0 & 0 & 1 & 0 & $\\dots$ \\\\\n\t4 & 0 & 0 & 1 & 0 & 0 & 0 & 0 & 0 & $\\dots$ \\\\\n\t5 & 1 & 1 & 1 & 0 & 0 & 1 & 0 & 0 & $\\dots$ \\\\\n\t6 & 1 & 1 & 0 & 1 & 0 & 0 & 0 & 0 & $\\dots$ \\\\\n\t7 & 1 & 1 & 1 & 0 & 0 & 0 & 0 & 0 & $\\dots$ \\\\\n\t8 & 0 & 0 & 0 & 1 & 0 & 0 & 1 & 0 & $\\dots$ \\\\\n\t9 & 0 & 1 & 0 & 1 & 0 & 0 & 0 & 0 & $\\dots$ \\\\\n\t10 & 1 & 1 & 1 & 0 & 0 & 0 & 1 & 0 & $\\dots$ \\\\\n\t11 & 0 & 0 & 0 & 1 & 0 & 0 & 0 & 0 & $\\dots$ \\\\\n\t12 & 1 & 0 & 1 & 0 & 0 & 0 & 0 & 0 & $\\dots$ \\\\\n\t13 & 0 & 1 & 0 & 1 & 0 & 0 & 0 & 0 & $\\dots$ \\\\\n\t14 & 0 & 1 & 0 & 1 & 0 & 0 & 0 & 0 & $\\dots$ \\\\\n\t15 & 0 & 1 & 0 & 1 & 0 & 0 & 0 & 0 & $\\dots$ \\\\\n\t16 & 0 & 1 & 1 & 0 & 0 & 0 & 0 & 1 & $\\dots$ \\\\\n\t17 & 0 & 1 & 1 & 0 & 0 & 0 & 1 & 0 & $\\dots$ \\\\\n\t18 & 1 & 1 & 1 & 0 & 0 & 0 & 0 & 0 & $\\dots$ \\\\\n\t19 & 1 & 0 & 0 & 1 & 0 & 0 & 0 & 0 & $\\dots$ \\\\\n\t20 & 1 & 0 & 0 & 1 & 0 & 1 & 0 & 0 & $\\dots$ \\\\\n\t21 & 0 & 0 & 1 & 0 & 0 & 0 & 0 & 0 & $\\dots$ \\\\\n\t22 & 0 & 0 & 1 & 0 & 0 & 0 & 0 & 1 & $\\dots$ \\\\\n\t23 & 0 & 0 & 0 & 1 & 0 & 0 & 0 & 0 & $\\dots$ \\\\\n\t24 & 1 & 1 & 1 & 0 & 0 & 0 & 0 & 1 & $\\dots$ \\\\\n\t25 & 0 & 1 & 0 & 1 & 0 & 0 & 0 & 0 & $\\dots$ \\\\\n\t26 & 1 & 1 & 0 & 1 & 0 & 0 & 0 & 0 & $\\dots$ \\\\\n\t27 & 0 & 0 & 1 & 0 & 0 & 0 & 0 & 0 & $\\dots$ \\\\\n\t28 & 0 & 0 & 0 & 1 & 0 & 0 & 0 & 0 & $\\dots$ \\\\\n\t29 & 0 & 0 & 1 & 0 & 0 & 0 & 0 & 0 & $\\dots$ \\\\\n\t30 & 1 & 1 & 1 & 0 & 0 & 0 & 0 & 0 & $\\dots$ \\\\\n\t$\\dots$ & $\\dots$ & $\\dots$ & $\\dots$ & $\\dots$ & $\\dots$ & $\\dots$ & $\\dots$ & $\\dots$ &  \\\\\n\\end{tabular}\n"
          },
          "metadata": {},
          "execution_count": 15
        }
      ]
    },
    {
      "cell_type": "code",
      "source": [
        "variables = [\n",
        "    \"y\", \"w\", \"gender_female\", \"gender_male\", \"gender_transgender\",\n",
        "    \"ethnicgrp_asian\", \"ethnicgrp_black\", \"ethnicgrp_mixed_multiple\",\n",
        "    \"ethnicgrp_other\", \"ethnicgrp_white\", \"partners1\", \"postlaunch\",\n",
        "    \"age\", \"imd_decile\"\n",
        "]\n"
      ],
      "metadata": {
        "colab": {
          "base_uri": "https://localhost:8080/"
        },
        "id": "t-2_SxSWapie",
        "outputId": "53b91f64-4eb0-4d62-c1bf-11678190dbd5"
      },
      "execution_count": 13,
      "outputs": [
        {
          "output_type": "execute_result",
          "data": {
            "text/plain": [
              "14-element Vector{String}:\n",
              " \"y\"\n",
              " \"w\"\n",
              " \"gender_female\"\n",
              " \"gender_male\"\n",
              " \"gender_transgender\"\n",
              " \"ethnicgrp_asian\"\n",
              " \"ethnicgrp_black\"\n",
              " \"ethnicgrp_mixed_multiple\"\n",
              " \"ethnicgrp_other\"\n",
              " \"ethnicgrp_white\"\n",
              " \"partners1\"\n",
              " \"postlaunch\"\n",
              " \"age\"\n",
              " \"imd_decile\""
            ]
          },
          "metadata": {},
          "execution_count": 13
        }
      ]
    },
    {
      "cell_type": "code",
      "source": [
        "# Dividir en grupos de control y tratamiento\n",
        "control_group = filter(row -> row[:w] == 0, df)\n",
        "treatment_group = filter(row -> row[:w] == 1, df)\n"
      ],
      "metadata": {
        "colab": {
          "base_uri": "https://localhost:8080/",
          "height": 645
        },
        "id": "ty40TnB_f207",
        "outputId": "ef278f4d-822b-463e-dc03-94799031790e"
      },
      "execution_count": 22,
      "outputs": [
        {
          "output_type": "execute_result",
          "data": {
            "text/plain": [
              "\u001b[1m921×15 DataFrame\u001b[0m\n",
              "\u001b[1m Row \u001b[0m│\u001b[1m y     \u001b[0m\u001b[1m w     \u001b[0m\u001b[1m gender_female \u001b[0m\u001b[1m gender_male \u001b[0m\u001b[1m gender_transgender \u001b[0m\u001b[1m ethnicgrp_asian \u001b[0m\u001b[1m ethnicgrp_bl\u001b[0m ⋯\n",
              "     │\u001b[90m Int64 \u001b[0m\u001b[90m Int64 \u001b[0m\u001b[90m Int64         \u001b[0m\u001b[90m Int64       \u001b[0m\u001b[90m Int64              \u001b[0m\u001b[90m Int64           \u001b[0m\u001b[90m Int64       \u001b[0m ⋯\n",
              "─────┼──────────────────────────────────────────────────────────────────────────────────────────────\n",
              "   1 │     1      1              0            1                   0                0               ⋯\n",
              "   2 │     0      1              0            1                   0                0\n",
              "   3 │     1      1              1            0                   0                1\n",
              "   4 │     1      1              0            1                   0                0\n",
              "   5 │     1      1              1            0                   0                0               ⋯\n",
              "   6 │     0      1              0            1                   0                0\n",
              "   7 │     1      1              1            0                   0                0\n",
              "   8 │     0      1              0            1                   0                0\n",
              "   9 │     0      1              0            1                   0                0               ⋯\n",
              "  10 │     0      1              0            1                   0                0\n",
              "  11 │     0      1              1            0                   0                0\n",
              "  ⋮  │   ⋮      ⋮          ⋮             ⋮               ⋮                  ⋮                ⋮     ⋱\n",
              " 912 │     0      1              1            0                   0                0\n",
              " 913 │     0      1              0            1                   0                0               ⋯\n",
              " 914 │     0      1              0            1                   0                0\n",
              " 915 │     0      1              0            1                   0                0\n",
              " 916 │     1      1              0            1                   0                0\n",
              " 917 │     1      1              1            0                   0                0               ⋯\n",
              " 918 │     1      1              1            0                   0                0\n",
              " 919 │     1      1              1            0                   0                0\n",
              " 920 │     0      1              1            0                   0                0\n",
              " 921 │     0      1              1            0                   0                0               ⋯\n",
              "\u001b[36m                                                                      9 columns and 900 rows omitted\u001b[0m"
            ],
            "text/html": [
              "<div><div style = \"float: left;\"><span>921×15 DataFrame</span></div><div style = \"float: right;\"><span style = \"font-style: italic;\">896 rows omitted</span></div><div style = \"clear: both;\"></div></div><div class = \"data-frame\" style = \"overflow-x: scroll;\"><table class = \"data-frame\" style = \"margin-bottom: 6px;\"><thead><tr class = \"header\"><th class = \"rowNumber\" style = \"font-weight: bold; text-align: right;\">Row</th><th style = \"text-align: left;\">y</th><th style = \"text-align: left;\">w</th><th style = \"text-align: left;\">gender_female</th><th style = \"text-align: left;\">gender_male</th><th style = \"text-align: left;\">gender_transgender</th><th style = \"text-align: left;\">ethnicgrp_asian</th><th style = \"text-align: left;\">ethnicgrp_black</th><th style = \"text-align: left;\">ethnicgrp_mixed_multiple</th><th style = \"text-align: left;\">ethnicgrp_other</th><th style = \"text-align: left;\">ethnicgrp_white</th><th style = \"text-align: left;\">partners1</th><th style = \"text-align: left;\">postlaunch</th><th style = \"text-align: left;\">msm</th><th style = \"text-align: left;\">age</th><th style = \"text-align: left;\">imd_decile</th></tr><tr class = \"subheader headerLastRow\"><th class = \"rowNumber\" style = \"font-weight: bold; text-align: right;\"></th><th title = \"Int64\" style = \"text-align: left;\">Int64</th><th title = \"Int64\" style = \"text-align: left;\">Int64</th><th title = \"Int64\" style = \"text-align: left;\">Int64</th><th title = \"Int64\" style = \"text-align: left;\">Int64</th><th title = \"Int64\" style = \"text-align: left;\">Int64</th><th title = \"Int64\" style = \"text-align: left;\">Int64</th><th title = \"Int64\" style = \"text-align: left;\">Int64</th><th title = \"Int64\" style = \"text-align: left;\">Int64</th><th title = \"Int64\" style = \"text-align: left;\">Int64</th><th title = \"Int64\" style = \"text-align: left;\">Int64</th><th title = \"Int64\" style = \"text-align: left;\">Int64</th><th title = \"Int64\" style = \"text-align: left;\">Int64</th><th title = \"Int64\" style = \"text-align: left;\">Int64</th><th title = \"Int64\" style = \"text-align: left;\">Int64</th><th title = \"Int64\" style = \"text-align: left;\">Int64</th></tr></thead><tbody><tr><td class = \"rowNumber\" style = \"font-weight: bold; text-align: right;\">1</td><td style = \"text-align: right;\">1</td><td style = \"text-align: right;\">1</td><td style = \"text-align: right;\">0</td><td style = \"text-align: right;\">1</td><td style = \"text-align: right;\">0</td><td style = \"text-align: right;\">0</td><td style = \"text-align: right;\">0</td><td style = \"text-align: right;\">1</td><td style = \"text-align: right;\">0</td><td style = \"text-align: right;\">0</td><td style = \"text-align: right;\">0</td><td style = \"text-align: right;\">1</td><td style = \"text-align: right;\">0</td><td style = \"text-align: right;\">27</td><td style = \"text-align: right;\">5</td></tr><tr><td class = \"rowNumber\" style = \"font-weight: bold; text-align: right;\">2</td><td style = \"text-align: right;\">0</td><td style = \"text-align: right;\">1</td><td style = \"text-align: right;\">0</td><td style = \"text-align: right;\">1</td><td style = \"text-align: right;\">0</td><td style = \"text-align: right;\">0</td><td style = \"text-align: right;\">1</td><td style = \"text-align: right;\">0</td><td style = \"text-align: right;\">0</td><td style = \"text-align: right;\">0</td><td style = \"text-align: right;\">0</td><td style = \"text-align: right;\">1</td><td style = \"text-align: right;\">0</td><td style = \"text-align: right;\">26</td><td style = \"text-align: right;\">4</td></tr><tr><td class = \"rowNumber\" style = \"font-weight: bold; text-align: right;\">3</td><td style = \"text-align: right;\">1</td><td style = \"text-align: right;\">1</td><td style = \"text-align: right;\">1</td><td style = \"text-align: right;\">0</td><td style = \"text-align: right;\">0</td><td style = \"text-align: right;\">1</td><td style = \"text-align: right;\">0</td><td style = \"text-align: right;\">0</td><td style = \"text-align: right;\">0</td><td style = \"text-align: right;\">0</td><td style = \"text-align: right;\">0</td><td style = \"text-align: right;\">1</td><td style = \"text-align: right;\">0</td><td style = \"text-align: right;\">24</td><td style = \"text-align: right;\">3</td></tr><tr><td class = \"rowNumber\" style = \"font-weight: bold; text-align: right;\">4</td><td style = \"text-align: right;\">1</td><td style = \"text-align: right;\">1</td><td style = \"text-align: right;\">0</td><td style = \"text-align: right;\">1</td><td style = \"text-align: right;\">0</td><td style = \"text-align: right;\">0</td><td style = \"text-align: right;\">0</td><td style = \"text-align: right;\">0</td><td style = \"text-align: right;\">0</td><td style = \"text-align: right;\">1</td><td style = \"text-align: right;\">0</td><td style = \"text-align: right;\">1</td><td style = \"text-align: right;\">0</td><td style = \"text-align: right;\">24</td><td style = \"text-align: right;\">2</td></tr><tr><td class = \"rowNumber\" style = \"font-weight: bold; text-align: right;\">5</td><td style = \"text-align: right;\">1</td><td style = \"text-align: right;\">1</td><td style = \"text-align: right;\">1</td><td style = \"text-align: right;\">0</td><td style = \"text-align: right;\">0</td><td style = \"text-align: right;\">0</td><td style = \"text-align: right;\">0</td><td style = \"text-align: right;\">0</td><td style = \"text-align: right;\">0</td><td style = \"text-align: right;\">1</td><td style = \"text-align: right;\">0</td><td style = \"text-align: right;\">0</td><td style = \"text-align: right;\">0</td><td style = \"text-align: right;\">24</td><td style = \"text-align: right;\">4</td></tr><tr><td class = \"rowNumber\" style = \"font-weight: bold; text-align: right;\">6</td><td style = \"text-align: right;\">0</td><td style = \"text-align: right;\">1</td><td style = \"text-align: right;\">0</td><td style = \"text-align: right;\">1</td><td style = \"text-align: right;\">0</td><td style = \"text-align: right;\">0</td><td style = \"text-align: right;\">0</td><td style = \"text-align: right;\">0</td><td style = \"text-align: right;\">0</td><td style = \"text-align: right;\">1</td><td style = \"text-align: right;\">1</td><td style = \"text-align: right;\">0</td><td style = \"text-align: right;\">0</td><td style = \"text-align: right;\">27</td><td style = \"text-align: right;\">2</td></tr><tr><td class = \"rowNumber\" style = \"font-weight: bold; text-align: right;\">7</td><td style = \"text-align: right;\">1</td><td style = \"text-align: right;\">1</td><td style = \"text-align: right;\">1</td><td style = \"text-align: right;\">0</td><td style = \"text-align: right;\">0</td><td style = \"text-align: right;\">0</td><td style = \"text-align: right;\">1</td><td style = \"text-align: right;\">0</td><td style = \"text-align: right;\">0</td><td style = \"text-align: right;\">0</td><td style = \"text-align: right;\">0</td><td style = \"text-align: right;\">0</td><td style = \"text-align: right;\">0</td><td style = \"text-align: right;\">21</td><td style = \"text-align: right;\">6</td></tr><tr><td class = \"rowNumber\" style = \"font-weight: bold; text-align: right;\">8</td><td style = \"text-align: right;\">0</td><td style = \"text-align: right;\">1</td><td style = \"text-align: right;\">0</td><td style = \"text-align: right;\">1</td><td style = \"text-align: right;\">0</td><td style = \"text-align: right;\">0</td><td style = \"text-align: right;\">0</td><td style = \"text-align: right;\">0</td><td style = \"text-align: right;\">0</td><td style = \"text-align: right;\">1</td><td style = \"text-align: right;\">0</td><td style = \"text-align: right;\">0</td><td style = \"text-align: right;\">1</td><td style = \"text-align: right;\">18</td><td style = \"text-align: right;\">4</td></tr><tr><td class = \"rowNumber\" style = \"font-weight: bold; text-align: right;\">9</td><td style = \"text-align: right;\">0</td><td style = \"text-align: right;\">1</td><td style = \"text-align: right;\">0</td><td style = \"text-align: right;\">1</td><td style = \"text-align: right;\">0</td><td style = \"text-align: right;\">0</td><td style = \"text-align: right;\">0</td><td style = \"text-align: right;\">0</td><td style = \"text-align: right;\">0</td><td style = \"text-align: right;\">1</td><td style = \"text-align: right;\">1</td><td style = \"text-align: right;\">1</td><td style = \"text-align: right;\">1</td><td style = \"text-align: right;\">26</td><td style = \"text-align: right;\">2</td></tr><tr><td class = \"rowNumber\" style = \"font-weight: bold; text-align: right;\">10</td><td style = \"text-align: right;\">0</td><td style = \"text-align: right;\">1</td><td style = \"text-align: right;\">0</td><td style = \"text-align: right;\">1</td><td style = \"text-align: right;\">0</td><td style = \"text-align: right;\">0</td><td style = \"text-align: right;\">0</td><td style = \"text-align: right;\">0</td><td style = \"text-align: right;\">0</td><td style = \"text-align: right;\">1</td><td style = \"text-align: right;\">0</td><td style = \"text-align: right;\">1</td><td style = \"text-align: right;\">1</td><td style = \"text-align: right;\">23</td><td style = \"text-align: right;\">6</td></tr><tr><td class = \"rowNumber\" style = \"font-weight: bold; text-align: right;\">11</td><td style = \"text-align: right;\">0</td><td style = \"text-align: right;\">1</td><td style = \"text-align: right;\">1</td><td style = \"text-align: right;\">0</td><td style = \"text-align: right;\">0</td><td style = \"text-align: right;\">0</td><td style = \"text-align: right;\">0</td><td style = \"text-align: right;\">1</td><td style = \"text-align: right;\">0</td><td style = \"text-align: right;\">0</td><td style = \"text-align: right;\">1</td><td style = \"text-align: right;\">1</td><td style = \"text-align: right;\">0</td><td style = \"text-align: right;\">24</td><td style = \"text-align: right;\">4</td></tr><tr><td class = \"rowNumber\" style = \"font-weight: bold; text-align: right;\">12</td><td style = \"text-align: right;\">0</td><td style = \"text-align: right;\">1</td><td style = \"text-align: right;\">1</td><td style = \"text-align: right;\">0</td><td style = \"text-align: right;\">0</td><td style = \"text-align: right;\">0</td><td style = \"text-align: right;\">1</td><td style = \"text-align: right;\">0</td><td style = \"text-align: right;\">0</td><td style = \"text-align: right;\">0</td><td style = \"text-align: right;\">0</td><td style = \"text-align: right;\">1</td><td style = \"text-align: right;\">0</td><td style = \"text-align: right;\">26</td><td style = \"text-align: right;\">3</td></tr><tr><td class = \"rowNumber\" style = \"font-weight: bold; text-align: right;\">13</td><td style = \"text-align: right;\">1</td><td style = \"text-align: right;\">1</td><td style = \"text-align: right;\">1</td><td style = \"text-align: right;\">0</td><td style = \"text-align: right;\">0</td><td style = \"text-align: right;\">0</td><td style = \"text-align: right;\">0</td><td style = \"text-align: right;\">0</td><td style = \"text-align: right;\">0</td><td style = \"text-align: right;\">1</td><td style = \"text-align: right;\">0</td><td style = \"text-align: right;\">0</td><td style = \"text-align: right;\">0</td><td style = \"text-align: right;\">26</td><td style = \"text-align: right;\">3</td></tr><tr><td style = \"text-align: right;\">&vellip;</td><td style = \"text-align: right;\">&vellip;</td><td style = \"text-align: right;\">&vellip;</td><td style = \"text-align: right;\">&vellip;</td><td style = \"text-align: right;\">&vellip;</td><td style = \"text-align: right;\">&vellip;</td><td style = \"text-align: right;\">&vellip;</td><td style = \"text-align: right;\">&vellip;</td><td style = \"text-align: right;\">&vellip;</td><td style = \"text-align: right;\">&vellip;</td><td style = \"text-align: right;\">&vellip;</td><td style = \"text-align: right;\">&vellip;</td><td style = \"text-align: right;\">&vellip;</td><td style = \"text-align: right;\">&vellip;</td><td style = \"text-align: right;\">&vellip;</td><td style = \"text-align: right;\">&vellip;</td></tr><tr><td class = \"rowNumber\" style = \"font-weight: bold; text-align: right;\">910</td><td style = \"text-align: right;\">1</td><td style = \"text-align: right;\">1</td><td style = \"text-align: right;\">1</td><td style = \"text-align: right;\">0</td><td style = \"text-align: right;\">0</td><td style = \"text-align: right;\">1</td><td style = \"text-align: right;\">0</td><td style = \"text-align: right;\">0</td><td style = \"text-align: right;\">0</td><td style = \"text-align: right;\">0</td><td style = \"text-align: right;\">1</td><td style = \"text-align: right;\">0</td><td style = \"text-align: right;\">0</td><td style = \"text-align: right;\">28</td><td style = \"text-align: right;\">4</td></tr><tr><td class = \"rowNumber\" style = \"font-weight: bold; text-align: right;\">911</td><td style = \"text-align: right;\">1</td><td style = \"text-align: right;\">1</td><td style = \"text-align: right;\">0</td><td style = \"text-align: right;\">1</td><td style = \"text-align: right;\">0</td><td style = \"text-align: right;\">0</td><td style = \"text-align: right;\">0</td><td style = \"text-align: right;\">0</td><td style = \"text-align: right;\">0</td><td style = \"text-align: right;\">1</td><td style = \"text-align: right;\">0</td><td style = \"text-align: right;\">1</td><td style = \"text-align: right;\">0</td><td style = \"text-align: right;\">25</td><td style = \"text-align: right;\">2</td></tr><tr><td class = \"rowNumber\" style = \"font-weight: bold; text-align: right;\">912</td><td style = \"text-align: right;\">0</td><td style = \"text-align: right;\">1</td><td style = \"text-align: right;\">1</td><td style = \"text-align: right;\">0</td><td style = \"text-align: right;\">0</td><td style = \"text-align: right;\">0</td><td style = \"text-align: right;\">1</td><td style = \"text-align: right;\">0</td><td style = \"text-align: right;\">0</td><td style = \"text-align: right;\">0</td><td style = \"text-align: right;\">1</td><td style = \"text-align: right;\">0</td><td style = \"text-align: right;\">0</td><td style = \"text-align: right;\">18</td><td style = \"text-align: right;\">2</td></tr><tr><td class = \"rowNumber\" style = \"font-weight: bold; text-align: right;\">913</td><td style = \"text-align: right;\">0</td><td style = \"text-align: right;\">1</td><td style = \"text-align: right;\">0</td><td style = \"text-align: right;\">1</td><td style = \"text-align: right;\">0</td><td style = \"text-align: right;\">0</td><td style = \"text-align: right;\">0</td><td style = \"text-align: right;\">0</td><td style = \"text-align: right;\">0</td><td style = \"text-align: right;\">1</td><td style = \"text-align: right;\">0</td><td style = \"text-align: right;\">1</td><td style = \"text-align: right;\">1</td><td style = \"text-align: right;\">26</td><td style = \"text-align: right;\">4</td></tr><tr><td class = \"rowNumber\" style = \"font-weight: bold; text-align: right;\">914</td><td style = \"text-align: right;\">0</td><td style = \"text-align: right;\">1</td><td style = \"text-align: right;\">0</td><td style = \"text-align: right;\">1</td><td style = \"text-align: right;\">0</td><td style = \"text-align: right;\">0</td><td style = \"text-align: right;\">0</td><td style = \"text-align: right;\">0</td><td style = \"text-align: right;\">0</td><td style = \"text-align: right;\">1</td><td style = \"text-align: right;\">0</td><td style = \"text-align: right;\">1</td><td style = \"text-align: right;\">0</td><td style = \"text-align: right;\">21</td><td style = \"text-align: right;\">3</td></tr><tr><td class = \"rowNumber\" style = \"font-weight: bold; text-align: right;\">915</td><td style = \"text-align: right;\">0</td><td style = \"text-align: right;\">1</td><td style = \"text-align: right;\">0</td><td style = \"text-align: right;\">1</td><td style = \"text-align: right;\">0</td><td style = \"text-align: right;\">0</td><td style = \"text-align: right;\">0</td><td style = \"text-align: right;\">0</td><td style = \"text-align: right;\">0</td><td style = \"text-align: right;\">1</td><td style = \"text-align: right;\">0</td><td style = \"text-align: right;\">0</td><td style = \"text-align: right;\">0</td><td style = \"text-align: right;\">19</td><td style = \"text-align: right;\">4</td></tr><tr><td class = \"rowNumber\" style = \"font-weight: bold; text-align: right;\">916</td><td style = \"text-align: right;\">1</td><td style = \"text-align: right;\">1</td><td style = \"text-align: right;\">0</td><td style = \"text-align: right;\">1</td><td style = \"text-align: right;\">0</td><td style = \"text-align: right;\">0</td><td style = \"text-align: right;\">0</td><td style = \"text-align: right;\">0</td><td style = \"text-align: right;\">0</td><td style = \"text-align: right;\">1</td><td style = \"text-align: right;\">0</td><td style = \"text-align: right;\">0</td><td style = \"text-align: right;\">0</td><td style = \"text-align: right;\">21</td><td style = \"text-align: right;\">2</td></tr><tr><td class = \"rowNumber\" style = \"font-weight: bold; text-align: right;\">917</td><td style = \"text-align: right;\">1</td><td style = \"text-align: right;\">1</td><td style = \"text-align: right;\">1</td><td style = \"text-align: right;\">0</td><td style = \"text-align: right;\">0</td><td style = \"text-align: right;\">0</td><td style = \"text-align: right;\">0</td><td style = \"text-align: right;\">1</td><td style = \"text-align: right;\">0</td><td style = \"text-align: right;\">0</td><td style = \"text-align: right;\">1</td><td style = \"text-align: right;\">1</td><td style = \"text-align: right;\">0</td><td style = \"text-align: right;\">26</td><td style = \"text-align: right;\">3</td></tr><tr><td class = \"rowNumber\" style = \"font-weight: bold; text-align: right;\">918</td><td style = \"text-align: right;\">1</td><td style = \"text-align: right;\">1</td><td style = \"text-align: right;\">1</td><td style = \"text-align: right;\">0</td><td style = \"text-align: right;\">0</td><td style = \"text-align: right;\">0</td><td style = \"text-align: right;\">1</td><td style = \"text-align: right;\">0</td><td style = \"text-align: right;\">0</td><td style = \"text-align: right;\">0</td><td style = \"text-align: right;\">1</td><td style = \"text-align: right;\">1</td><td style = \"text-align: right;\">0</td><td style = \"text-align: right;\">29</td><td style = \"text-align: right;\">1</td></tr><tr><td class = \"rowNumber\" style = \"font-weight: bold; text-align: right;\">919</td><td style = \"text-align: right;\">1</td><td style = \"text-align: right;\">1</td><td style = \"text-align: right;\">1</td><td style = \"text-align: right;\">0</td><td style = \"text-align: right;\">0</td><td style = \"text-align: right;\">0</td><td style = \"text-align: right;\">0</td><td style = \"text-align: right;\">0</td><td style = \"text-align: right;\">0</td><td style = \"text-align: right;\">1</td><td style = \"text-align: right;\">0</td><td style = \"text-align: right;\">1</td><td style = \"text-align: right;\">0</td><td style = \"text-align: right;\">27</td><td style = \"text-align: right;\">4</td></tr><tr><td class = \"rowNumber\" style = \"font-weight: bold; text-align: right;\">920</td><td style = \"text-align: right;\">0</td><td style = \"text-align: right;\">1</td><td style = \"text-align: right;\">1</td><td style = \"text-align: right;\">0</td><td style = \"text-align: right;\">0</td><td style = \"text-align: right;\">0</td><td style = \"text-align: right;\">0</td><td style = \"text-align: right;\">0</td><td style = \"text-align: right;\">0</td><td style = \"text-align: right;\">1</td><td style = \"text-align: right;\">1</td><td style = \"text-align: right;\">1</td><td style = \"text-align: right;\">0</td><td style = \"text-align: right;\">25</td><td style = \"text-align: right;\">4</td></tr><tr><td class = \"rowNumber\" style = \"font-weight: bold; text-align: right;\">921</td><td style = \"text-align: right;\">0</td><td style = \"text-align: right;\">1</td><td style = \"text-align: right;\">1</td><td style = \"text-align: right;\">0</td><td style = \"text-align: right;\">0</td><td style = \"text-align: right;\">0</td><td style = \"text-align: right;\">0</td><td style = \"text-align: right;\">0</td><td style = \"text-align: right;\">0</td><td style = \"text-align: right;\">1</td><td style = \"text-align: right;\">0</td><td style = \"text-align: right;\">1</td><td style = \"text-align: right;\">0</td><td style = \"text-align: right;\">25</td><td style = \"text-align: right;\">4</td></tr></tbody></table></div>"
            ],
            "text/latex": "\\begin{tabular}{r|ccccccccc}\n\t& y & w & gender\\_female & gender\\_male & gender\\_transgender & ethnicgrp\\_asian & ethnicgrp\\_black & ethnicgrp\\_mixed\\_multiple & \\\\\n\t\\hline\n\t& Int64 & Int64 & Int64 & Int64 & Int64 & Int64 & Int64 & Int64 & \\\\\n\t\\hline\n\t1 & 1 & 1 & 0 & 1 & 0 & 0 & 0 & 1 & $\\dots$ \\\\\n\t2 & 0 & 1 & 0 & 1 & 0 & 0 & 1 & 0 & $\\dots$ \\\\\n\t3 & 1 & 1 & 1 & 0 & 0 & 1 & 0 & 0 & $\\dots$ \\\\\n\t4 & 1 & 1 & 0 & 1 & 0 & 0 & 0 & 0 & $\\dots$ \\\\\n\t5 & 1 & 1 & 1 & 0 & 0 & 0 & 0 & 0 & $\\dots$ \\\\\n\t6 & 0 & 1 & 0 & 1 & 0 & 0 & 0 & 0 & $\\dots$ \\\\\n\t7 & 1 & 1 & 1 & 0 & 0 & 0 & 1 & 0 & $\\dots$ \\\\\n\t8 & 0 & 1 & 0 & 1 & 0 & 0 & 0 & 0 & $\\dots$ \\\\\n\t9 & 0 & 1 & 0 & 1 & 0 & 0 & 0 & 0 & $\\dots$ \\\\\n\t10 & 0 & 1 & 0 & 1 & 0 & 0 & 0 & 0 & $\\dots$ \\\\\n\t11 & 0 & 1 & 1 & 0 & 0 & 0 & 0 & 1 & $\\dots$ \\\\\n\t12 & 0 & 1 & 1 & 0 & 0 & 0 & 1 & 0 & $\\dots$ \\\\\n\t13 & 1 & 1 & 1 & 0 & 0 & 0 & 0 & 0 & $\\dots$ \\\\\n\t14 & 1 & 1 & 1 & 0 & 0 & 0 & 0 & 1 & $\\dots$ \\\\\n\t15 & 0 & 1 & 0 & 1 & 0 & 0 & 0 & 0 & $\\dots$ \\\\\n\t16 & 1 & 1 & 0 & 1 & 0 & 0 & 0 & 0 & $\\dots$ \\\\\n\t17 & 1 & 1 & 1 & 0 & 0 & 0 & 0 & 0 & $\\dots$ \\\\\n\t18 & 0 & 1 & 1 & 0 & 0 & 0 & 0 & 0 & $\\dots$ \\\\\n\t19 & 0 & 1 & 0 & 1 & 0 & 0 & 0 & 0 & $\\dots$ \\\\\n\t20 & 0 & 1 & 1 & 0 & 0 & 0 & 0 & 0 & $\\dots$ \\\\\n\t21 & 0 & 1 & 0 & 1 & 0 & 0 & 0 & 0 & $\\dots$ \\\\\n\t22 & 1 & 1 & 1 & 0 & 0 & 0 & 0 & 1 & $\\dots$ \\\\\n\t23 & 1 & 1 & 1 & 0 & 0 & 0 & 0 & 0 & $\\dots$ \\\\\n\t24 & 1 & 1 & 0 & 1 & 0 & 0 & 1 & 0 & $\\dots$ \\\\\n\t25 & 1 & 1 & 1 & 0 & 0 & 0 & 0 & 0 & $\\dots$ \\\\\n\t26 & 1 & 1 & 1 & 0 & 0 & 0 & 0 & 0 & $\\dots$ \\\\\n\t27 & 1 & 1 & 1 & 0 & 0 & 0 & 0 & 0 & $\\dots$ \\\\\n\t28 & 1 & 1 & 1 & 0 & 0 & 0 & 0 & 0 & $\\dots$ \\\\\n\t29 & 1 & 1 & 1 & 0 & 0 & 0 & 0 & 0 & $\\dots$ \\\\\n\t30 & 1 & 1 & 1 & 0 & 0 & 1 & 0 & 0 & $\\dots$ \\\\\n\t$\\dots$ & $\\dots$ & $\\dots$ & $\\dots$ & $\\dots$ & $\\dots$ & $\\dots$ & $\\dots$ & $\\dots$ &  \\\\\n\\end{tabular}\n"
          },
          "metadata": {},
          "execution_count": 22
        }
      ]
    },
    {
      "cell_type": "code",
      "source": [
        "using DataFrames\n",
        "using Statistics\n",
        "using GLM\n",
        "using StatsModels\n",
        "using Plots"
      ],
      "metadata": {
        "id": "LBUyxwu2gB31"
      },
      "execution_count": 26,
      "outputs": []
    },
    {
      "cell_type": "code",
      "source": [
        "function calculate_stats(variable)\n",
        "    control_mean = mean(control_group[!, variable])\n",
        "    control_std = std(control_group[!, variable])\n",
        "\n",
        "    treatment_mean = mean(treatment_group[!, variable])\n",
        "    treatment_std = std(treatment_group[!, variable])\n",
        "\n",
        "    return control_mean, control_std, treatment_mean, treatment_std\n",
        "end"
      ],
      "metadata": {
        "colab": {
          "base_uri": "https://localhost:8080/"
        },
        "id": "AKC42yHheKsv",
        "outputId": "a7f4c1a1-e726-48b2-9afc-801727a46621"
      },
      "execution_count": 28,
      "outputs": [
        {
          "output_type": "execute_result",
          "data": {
            "text/plain": [
              "calculate_stats (generic function with 1 method)"
            ]
          },
          "metadata": {},
          "execution_count": 28
        }
      ]
    },
    {
      "cell_type": "code",
      "source": [
        "balance_table = DataFrame(\n",
        "    Variable = String[],\n",
        "    Control_mean = Float64[],\n",
        "    Control_std = Float64[],\n",
        "    Treatment_mean = Float64[],\n",
        "    Treatment_std = Float64[],\n",
        ")\n",
        "\n",
        "for var in variables\n",
        "    control_mean, control_std, treatment_mean, treatment_std = calculate_stats(var)\n",
        "    push!(balance_table, (var, control_mean, control_std, treatment_mean, treatment_std))\n",
        "end\n",
        "\n",
        "# Mostrar la tabla de balance\n",
        "println(balance_table)\n"
      ],
      "metadata": {
        "colab": {
          "base_uri": "https://localhost:8080/"
        },
        "id": "gxSMangqgl69",
        "outputId": "86f3b74f-26b1-47f1-e54c-f8f2dfb636d2"
      },
      "execution_count": 32,
      "outputs": [
        {
          "output_type": "stream",
          "name": "stdout",
          "text": [
            "\u001b[1m14×5 DataFrame\u001b[0m\n",
            "\u001b[1m Row \u001b[0m│\u001b[1m Variable                 \u001b[0m\u001b[1m Control_mean \u001b[0m\u001b[1m Control_std \u001b[0m\u001b[1m Treatment_mean \u001b[0m\u001b[1m Treatment_std \u001b[0m\n",
            "     │\u001b[90m String                   \u001b[0m\u001b[90m Float64      \u001b[0m\u001b[90m Float64     \u001b[0m\u001b[90m Float64        \u001b[0m\u001b[90m Float64       \u001b[0m\n",
            "─────┼────────────────────────────────────────────────────────────────────────────────────\n",
            "   1 │ y                           0.211491      0.408616       0.476656        0.499726\n",
            "   2 │ w                           0.0           0.0            1.0             0.0\n",
            "   3 │ gender_female               0.580685      0.493749       0.587405        0.492569\n",
            "   4 │ gender_male                 0.418093      0.493547       0.409338        0.491979\n",
            "   5 │ gender_transgender          0.00122249    0.0349642      0.00325733      0.0570109\n",
            "   6 │ ethnicgrp_asian             0.0550122     0.228144       0.0716612       0.258066\n",
            "   7 │ ethnicgrp_black             0.0929095     0.290483       0.0803474       0.271978\n",
            "   8 │ ethnicgrp_mixed_multiple    0.0929095     0.290483       0.0846906       0.278572\n",
            "   9 │ ethnicgrp_other             0.0171149     0.129779       0.00977199      0.0984226\n",
            "  10 │ ethnicgrp_white             0.742054      0.437772       0.753529        0.43119\n",
            "  11 │ partners1                   0.292176      0.455041       0.30076         0.458838\n",
            "  12 │ postlaunch                  0.473105      0.499582       0.555917        0.497133\n",
            "  13 │ age                        23.0477        3.59401       23.1585          3.53874\n",
            "  14 │ imd_decile                  3.48411       1.48608        3.46037         1.46584\n"
          ]
        }
      ]
    },
    {
      "cell_type": "code",
      "source": [
        "default(size=(1200, 600))\n",
        "\n",
        "group_labels = [\"Control\", \"Treated\"]\n",
        "colors = [:blue, :red]\n",
        "\n",
        "mean_y = combine(groupby(df, :w), :y => mean)\n",
        "\n",
        "bar(mean_y[!,:w], mean_y[!,:y_mean], group=mean_y[!,:w], bar_width=0.8, fillalpha=0.6, label=\"\", color=palette(colors))\n",
        "\n",
        "xlabel!(\"Group (0 = Control, 1 = Treated)\")\n",
        "ylabel!(\"Proportion of STI Testing\")\n",
        "title!(\"Proportion of STI Testing (Outcome y) in Treated and Control Groups\")\n",
        "\n",
        "display(plot)\n",
        "\n"
      ],
      "metadata": {
        "colab": {
          "base_uri": "https://localhost:8080/",
          "height": 34
        },
        "id": "NqjUs9M8gsOc",
        "outputId": "751523ca-9b77-4a94-fe2b-6e66e5fa7d02"
      },
      "execution_count": 40,
      "outputs": [
        {
          "output_type": "display_data",
          "data": {
            "text/plain": [
              "plot (generic function with 4 methods)"
            ]
          },
          "metadata": {}
        }
      ]
    },
    {
      "cell_type": "code",
      "source": [],
      "metadata": {
        "id": "Vq2ZUVZ6hcCg"
      },
      "execution_count": 37,
      "outputs": []
    }
  ]
}